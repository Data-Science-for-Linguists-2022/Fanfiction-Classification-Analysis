{
 "cells": [
  {
   "cell_type": "markdown",
   "id": "8051e799-dc45-4a3b-ba8f-a86e3702f084",
   "metadata": {},
   "source": [
    "In this notebook (created using CRC OnDemand) I will attempt to use unsupervised machine learning and clustering to more deeply examine my dataset."
   ]
  },
  {
   "cell_type": "code",
   "execution_count": 15,
   "id": "30a2c4e8-9ed5-4b8c-a2d4-601b162181bb",
   "metadata": {},
   "outputs": [
    {
     "data": {
      "text/plain": [
       "['Hello', ',', 'world', '...', '!', '!']"
      ]
     },
     "execution_count": 15,
     "metadata": {},
     "output_type": "execute_result"
    }
   ],
   "source": [
    "import numpy as np\n",
    "import pickle\n",
    "import pandas as pd\n",
    "import sklearn              \n",
    "import matplotlib.pyplot as plt\n",
    "import seaborn as sns      \n",
    "import warnings\n",
    "warnings.filterwarnings(\"ignore\", category=DeprecationWarning)\n",
    "\n",
    "sns.set(style='darkgrid', font_scale=1.3)\n",
    "\n",
    "import nltk\n",
    "nltk.data.path.append('/ihome/nhan/naraehan/shared_data/nltk_data') \n",
    "nltk.word_tokenize('Hello, world...!!')"
   ]
  },
  {
   "cell_type": "code",
   "execution_count": 17,
   "id": "be078a50-b4b2-482e-a48a-01a9a5bf8a34",
   "metadata": {},
   "outputs": [
    {
     "data": {
      "text/html": [
       "<div>\n",
       "<style scoped>\n",
       "    .dataframe tbody tr th:only-of-type {\n",
       "        vertical-align: middle;\n",
       "    }\n",
       "\n",
       "    .dataframe tbody tr th {\n",
       "        vertical-align: top;\n",
       "    }\n",
       "\n",
       "    .dataframe thead th {\n",
       "        text-align: right;\n",
       "    }\n",
       "</style>\n",
       "<table border=\"1\" class=\"dataframe\">\n",
       "  <thead>\n",
       "    <tr style=\"text-align: right;\">\n",
       "      <th></th>\n",
       "      <th>Filename</th>\n",
       "      <th>Rating</th>\n",
       "      <th>Warning</th>\n",
       "      <th>Category</th>\n",
       "      <th>Fandom</th>\n",
       "      <th>Relationships</th>\n",
       "      <th>Characters</th>\n",
       "      <th>Additional</th>\n",
       "      <th>Text</th>\n",
       "    </tr>\n",
       "  </thead>\n",
       "  <tbody>\n",
       "    <tr>\n",
       "      <th>0</th>\n",
       "      <td>1005380.html</td>\n",
       "      <td>Explicit</td>\n",
       "      <td>Creator Chose Not To Use Archive Warnings</td>\n",
       "      <td>M/M</td>\n",
       "      <td>Harry Potter - J. K. Rowling</td>\n",
       "      <td>Sirius Black/Remus Lupin, James/Lily, Peter Pe...</td>\n",
       "      <td>Remus Lupin, Sirius Black, James Potter, Lily ...</td>\n",
       "      <td>Humor, Angst, First War with Voldemort</td>\n",
       "      <td>While we've done our best to make the core fun...</td>\n",
       "    </tr>\n",
       "    <tr>\n",
       "      <th>1</th>\n",
       "      <td>10057010.html</td>\n",
       "      <td>Mature</td>\n",
       "      <td>No Archive Warnings Apply, Major Character Dea...</td>\n",
       "      <td>M/M</td>\n",
       "      <td>Harry Potter - J. K. Rowling</td>\n",
       "      <td>Sirius Black/Remus Lupin, Sirius Black &amp; Remus...</td>\n",
       "      <td>Remus Lupin, Sirius Black, James Potter, Lily ...</td>\n",
       "      <td>Marauders' Era, Marauders, Marauders Friendshi...</td>\n",
       "      <td>While we've done our best to make the core fun...</td>\n",
       "    </tr>\n",
       "    <tr>\n",
       "      <th>2</th>\n",
       "      <td>10074443.html</td>\n",
       "      <td>Explicit</td>\n",
       "      <td>No Archive Warnings Apply</td>\n",
       "      <td>M/M</td>\n",
       "      <td>Batman (Movies - Nolan), Dark Knight Rises - F...</td>\n",
       "      <td>Bane (DCU)/John Blake</td>\n",
       "      <td>Bane (DCU), John Blake</td>\n",
       "      <td>nightwing!blake, dub-con, Fanart, molesting ag...</td>\n",
       "      <td>While we've done our best to make the core fun...</td>\n",
       "    </tr>\n",
       "    <tr>\n",
       "      <th>3</th>\n",
       "      <td>1008747.html</td>\n",
       "      <td>Explicit</td>\n",
       "      <td>Underage</td>\n",
       "      <td>M/M</td>\n",
       "      <td>Harry Potter - J. K. Rowling</td>\n",
       "      <td>Harry Potter/Voldemort, Harry Potter/Tom Riddl...</td>\n",
       "      <td>Harry Potter, Voldemort, Tom Riddle | Voldemor...</td>\n",
       "      <td>Angst, First Time, Work In Progress, Alternate...</td>\n",
       "      <td>While we've done our best to make the core fun...</td>\n",
       "    </tr>\n",
       "    <tr>\n",
       "      <th>4</th>\n",
       "      <td>10159223.html</td>\n",
       "      <td>Explicit</td>\n",
       "      <td>Rape/Non-Con</td>\n",
       "      <td>F/M, Multi, F/F</td>\n",
       "      <td>Spider-Man (Comicverse)</td>\n",
       "      <td>Peter Parker/Calypso, Betty Brant/Peter Parker...</td>\n",
       "      <td>Peter Parker, Calypso, Betty Brant, Felicia Ha...</td>\n",
       "      <td>Adultery, Femdom, Seduction, Office Sex, Three...</td>\n",
       "      <td>While we've done our best to make the core fun...</td>\n",
       "    </tr>\n",
       "  </tbody>\n",
       "</table>\n",
       "</div>"
      ],
      "text/plain": [
       "        Filename    Rating                                            Warning  \\\n",
       "0   1005380.html  Explicit          Creator Chose Not To Use Archive Warnings   \n",
       "1  10057010.html    Mature  No Archive Warnings Apply, Major Character Dea...   \n",
       "2  10074443.html  Explicit                          No Archive Warnings Apply   \n",
       "3   1008747.html  Explicit                                           Underage   \n",
       "4  10159223.html  Explicit                                       Rape/Non-Con   \n",
       "\n",
       "          Category                                             Fandom  \\\n",
       "0              M/M                       Harry Potter - J. K. Rowling   \n",
       "1              M/M                       Harry Potter - J. K. Rowling   \n",
       "2              M/M  Batman (Movies - Nolan), Dark Knight Rises - F...   \n",
       "3              M/M                       Harry Potter - J. K. Rowling   \n",
       "4  F/M, Multi, F/F                            Spider-Man (Comicverse)   \n",
       "\n",
       "                                       Relationships  \\\n",
       "0  Sirius Black/Remus Lupin, James/Lily, Peter Pe...   \n",
       "1  Sirius Black/Remus Lupin, Sirius Black & Remus...   \n",
       "2                              Bane (DCU)/John Blake   \n",
       "3  Harry Potter/Voldemort, Harry Potter/Tom Riddl...   \n",
       "4  Peter Parker/Calypso, Betty Brant/Peter Parker...   \n",
       "\n",
       "                                          Characters  \\\n",
       "0  Remus Lupin, Sirius Black, James Potter, Lily ...   \n",
       "1  Remus Lupin, Sirius Black, James Potter, Lily ...   \n",
       "2                             Bane (DCU), John Blake   \n",
       "3  Harry Potter, Voldemort, Tom Riddle | Voldemor...   \n",
       "4  Peter Parker, Calypso, Betty Brant, Felicia Ha...   \n",
       "\n",
       "                                          Additional  \\\n",
       "0             Humor, Angst, First War with Voldemort   \n",
       "1  Marauders' Era, Marauders, Marauders Friendshi...   \n",
       "2  nightwing!blake, dub-con, Fanart, molesting ag...   \n",
       "3  Angst, First Time, Work In Progress, Alternate...   \n",
       "4  Adultery, Femdom, Seduction, Office Sex, Three...   \n",
       "\n",
       "                                                Text  \n",
       "0  While we've done our best to make the core fun...  \n",
       "1  While we've done our best to make the core fun...  \n",
       "2  While we've done our best to make the core fun...  \n",
       "3  While we've done our best to make the core fun...  \n",
       "4  While we've done our best to make the core fun...  "
      ]
     },
     "execution_count": 17,
     "metadata": {},
     "output_type": "execute_result"
    }
   ],
   "source": [
    "epath = '/ihome/ling2340_2022s/rsb76/'\n",
    "fanfics = pd.read_pickle(epath + 'fanfiction_df.pkl')\n",
    "fanfics.head()"
   ]
  },
  {
   "cell_type": "code",
   "execution_count": 18,
   "id": "85925bbd-0663-4c1e-9da3-b551a7fda932",
   "metadata": {},
   "outputs": [
    {
     "name": "stdout",
     "output_type": "stream",
     "text": [
      "<class 'pandas.core.frame.DataFrame'>\n",
      "RangeIndex: 10054 entries, 0 to 10053\n",
      "Data columns (total 9 columns):\n",
      " #   Column         Non-Null Count  Dtype \n",
      "---  ------         --------------  ----- \n",
      " 0   Filename       10054 non-null  object\n",
      " 1   Rating         9762 non-null   object\n",
      " 2   Warning        9762 non-null   object\n",
      " 3   Category       9252 non-null   object\n",
      " 4   Fandom         9762 non-null   object\n",
      " 5   Relationships  9382 non-null   object\n",
      " 6   Characters     9455 non-null   object\n",
      " 7   Additional     9438 non-null   object\n",
      " 8   Text           10054 non-null  object\n",
      "dtypes: object(9)\n",
      "memory usage: 707.0+ KB\n"
     ]
    }
   ],
   "source": [
    "fanfics.info()"
   ]
  },
  {
   "cell_type": "markdown",
   "id": "cacf26c3-604c-4ff6-8598-09fdf68a629b",
   "metadata": {},
   "source": [
    "As you can see, I have a varying number of non-null objects in each column. For better clustering, I'm going to drop rows that contain null objects, even though this will give me a smaller DataFrame."
   ]
  },
  {
   "cell_type": "code",
   "execution_count": 19,
   "id": "095b89af-cae0-432b-8787-4566e173b00b",
   "metadata": {},
   "outputs": [
    {
     "name": "stdout",
     "output_type": "stream",
     "text": [
      "<class 'pandas.core.frame.DataFrame'>\n",
      "Int64Index: 8450 entries, 0 to 10053\n",
      "Data columns (total 9 columns):\n",
      " #   Column         Non-Null Count  Dtype \n",
      "---  ------         --------------  ----- \n",
      " 0   Filename       8450 non-null   object\n",
      " 1   Rating         8450 non-null   object\n",
      " 2   Warning        8450 non-null   object\n",
      " 3   Category       8450 non-null   object\n",
      " 4   Fandom         8450 non-null   object\n",
      " 5   Relationships  8450 non-null   object\n",
      " 6   Characters     8450 non-null   object\n",
      " 7   Additional     8450 non-null   object\n",
      " 8   Text           8450 non-null   object\n",
      "dtypes: object(9)\n",
      "memory usage: 660.2+ KB\n"
     ]
    }
   ],
   "source": [
    "fanfics = fanfics.dropna()\n",
    "fanfics.info()"
   ]
  },
  {
   "cell_type": "markdown",
   "id": "d63be7ee-e9d9-4e09-afb4-665578ed31f5",
   "metadata": {},
   "source": [
    "Now to start clustering! Let's look at fandoms first."
   ]
  },
  {
   "cell_type": "code",
   "execution_count": 20,
   "id": "5641f7bd-403c-4daa-90a7-b0ff77d31336",
   "metadata": {},
   "outputs": [],
   "source": [
    "from sklearn.pipeline import Pipeline\n",
    "from sklearn.feature_extraction.text import TfidfVectorizer\n",
    "\n",
    "tfidf_model = TfidfVectorizer(max_features=10000, min_df=2, max_df=0.5, stop_words='english')\n",
    "\n",
    "x = fanfics['Text']\n",
    "y = fanfics['Fandom']\n",
    "\n",
    "x_tfidf = tfidf_model.fit_transform(x, y)"
   ]
  },
  {
   "cell_type": "code",
   "execution_count": 23,
   "id": "389f4f94-fa4f-4c6b-949b-338e738ac85b",
   "metadata": {},
   "outputs": [
    {
     "data": {
      "image/png": "[encoded data removed]",
      "text/plain": [
       "<Figure size 864x432 with 1 Axes>"
      ]
     },
     "metadata": {},
     "output_type": "display_data"
    }
   ],
   "source": [
    "from sklearn.decomposition import TruncatedSVD\n",
    "svd_model = TruncatedSVD(n_components=2)\n",
    "x_svd = svd_model.fit_transform(x_tfidf,y)\n",
    "plt.figure(figsize=(12,6))\n",
    "plt.scatter(x_svd[:2000, 0], x_svd[:2000, 1])\n",
    "plt.show()"
   ]
  },
  {
   "cell_type": "markdown",
   "id": "c2b244aa-acc7-4772-9663-aae5dfd19425",
   "metadata": {},
   "source": [
    "So my data does have a shape! I was honestly not entirely sure that it would. I'm not sure what the different groups we see here correlate to, but I'm going to try topic modeling with four topics (based on what I see in this graph) and see what it comes up with."
   ]
  },
  {
   "cell_type": "code",
   "execution_count": 24,
   "id": "3999b7a7-bc03-4da2-a991-15afdcca6c0d",
   "metadata": {},
   "outputs": [
    {
     "name": "stdout",
     "output_type": "stream",
     "text": [
      "Topic 0:\n",
      "just like said eyes time didn know don head hand\n",
      "Topic 1:\n",
      "harry draco hermione potter ron tom sirius magic remus lily\n",
      "Topic 2:\n",
      "chapter 10 12 11 13 14 16 15 17 18\n",
      "Topic 3:\n",
      "izuku katsuki midoriya hero bakugou class students boy kid school\n"
     ]
    },
    {
     "name": "stderr",
     "output_type": "stream",
     "text": [
      "/ihome/crc/install/python/ondemand-jupyter-python3.8/lib/python3.8/site-packages/sklearn/decomposition/_nmf.py:1090: ConvergenceWarning: Maximum number of iterations 200 reached. Increase it to improve convergence.\n",
      "  warnings.warn(\"Maximum number of iterations %d reached. Increase it to\"\n"
     ]
    }
   ],
   "source": [
    "from sklearn.feature_extraction.text import TfidfVectorizer, CountVectorizer\n",
    "from sklearn.decomposition import NMF, LatentDirichletAllocation\n",
    "\n",
    "# custom function for print out topics\n",
    "def display_topics(model, feature_names, num_top_words):\n",
    "    for topic_idx, topic in enumerate(model.components_):\n",
    "        print(\"Topic %d:\" % (topic_idx))\n",
    "        print(\" \".join([feature_names[i]\n",
    "                        for i in topic.argsort()[:-num_top_words - 1:-1]]))\n",
    "\n",
    "documents = fanfics.Text\n",
    "\n",
    "num_feats = 1000\n",
    "num_tops = 4\n",
    "\n",
    "# NMF is able to use tf-idf\n",
    "tfidf_vectorizer = TfidfVectorizer(max_df=0.95, min_df=2, max_features=num_feats, stop_words='english')\n",
    "tfidf_docs = tfidf_vectorizer.fit_transform(documents)\n",
    "\n",
    "# Run NMF\n",
    "nmf_model = NMF(n_components=num_tops, random_state=1, alpha=.1, l1_ratio=.5, \n",
    "                init='nndsvd').fit(tfidf_docs)\n",
    "\n",
    "display_topics(nmf_model, tfidf_vectorizer.get_feature_names(), 10)"
   ]
  },
  {
   "cell_type": "markdown",
   "id": "21308af8-b517-4fab-9d83-035715b5e77b",
   "metadata": {},
   "source": [
    "That was... informative. I'm honestly not sure what topic 0 is correlated to, other than 'not the others', but it appears Harry Potter and My Hero Academia (my two most prolific fandoms if you remember) made quite the mark on my topic identifier. I'm going to try again, this time with more topics, to see what else made its mark."
   ]
  },
  {
   "cell_type": "code",
   "execution_count": 25,
   "id": "50e948d1-8825-4c84-9b63-ac8dc8723ea2",
   "metadata": {},
   "outputs": [
    {
     "name": "stdout",
     "output_type": "stream",
     "text": [
      "Topic 0:\n",
      "said just like didn know don asked time going really\n",
      "Topic 1:\n",
      "harry tom potter ron magic draco lord sirius lily boy\n",
      "Topic 2:\n",
      "chapter 10 12 11 13 14 16 15 17 18\n",
      "Topic 3:\n",
      "izuku katsuki midoriya hero bakugou boy students class kid school\n",
      "Topic 4:\n",
      "says like doesn just asks looks don feels know takes\n",
      "Topic 5:\n",
      "cock cum pussy hips mouth fuck ass lips fingers tongue\n",
      "Topic 6:\n",
      "peter tony stiles derek kid man mr boy okay apartment\n",
      "Topic 7:\n",
      "tommy wilbur techno dream george fucking sam boy arthur man\n",
      "Topic 8:\n",
      "jungkook jimin taehyung namjoon yoongi baby kim younger car eyes\n",
      "Topic 9:\n",
      "hermione draco ron potter george said year father magic harry\n",
      "Topic 10:\n",
      "eyes hand like face head man time felt away didn\n",
      "Topic 11:\n",
      "mirabel family town sister room mother children vision years daughter\n",
      "Topic 12:\n",
      "remus sirius james lily potter year black hermione boy magic\n",
      "Topic 13:\n",
      "omega alpha scent heat mate smell stiles katsuki mark derek\n",
      "Topic 14:\n",
      "naruto kakashi sasuke 10 team blonde san training boy son\n",
      "Topic 15:\n",
      "jason tim dick percy kid brother red father family users\n",
      "Topic 16:\n",
      "que la su en el se san son ya um\n",
      "Topic 17:\n",
      "lexi shit like girl party fucking sister car fuck house\n",
      "Topic 18:\n",
      "tony steve bucky sam james team mr man room kid\n",
      "Topic 19:\n",
      "obi wan anakin master force luke ship war order sir\n"
     ]
    },
    {
     "name": "stderr",
     "output_type": "stream",
     "text": [
      "/ihome/crc/install/python/ondemand-jupyter-python3.8/lib/python3.8/site-packages/sklearn/decomposition/_nmf.py:1090: ConvergenceWarning: Maximum number of iterations 200 reached. Increase it to improve convergence.\n",
      "  warnings.warn(\"Maximum number of iterations %d reached. Increase it to\"\n"
     ]
    }
   ],
   "source": [
    "num_tops = 20\n",
    "nmf_model = NMF(n_components=num_tops, random_state=1, alpha=.1, l1_ratio=.5, \n",
    "                init='nndsvd').fit(tfidf_docs)\n",
    "\n",
    "display_topics(nmf_model, tfidf_vectorizer.get_feature_names(), 10)"
   ]
  },
  {
   "cell_type": "markdown",
   "id": "0baeabf2-1476-44cb-96a2-da518c6a1873",
   "metadata": {},
   "source": [
    "Well this was also... informative. It tells me that topic modeling does tend to identify fandoms (except in a few cases where it identifies... other things). It also tells me that 20 is probably too many topics, since we ended up with two Marvel topics and three Harry Potter topics. Topic 0 and Topic 10 still stand out. It seems to me that they are probably placeholders for all the fanfics that don't fit into my most common fandoms (and aren't smut apparently). I'm actually pleasantly surprised by how well these correlate with my previously identified most common fandoms (if you don't remember, they were, in order, Harry Potter, My Hero Academia, Marvel, Minecraft, Naruto, Video Blogging RPF, Genshin Impact, Star Wars, Encanto, BTS, Five Nights at Freddy's, and Batman). However, I am surprised at the total absence of the video game fandoms from this list. It occurred to me that these fanfics are probably more likely to use entirely original characters, and so wouldn't have character names making it clear they belonged together. The other topic here that stands out to me is Topic 16, which appears to be a... foreign language topic? Topic 17 would appear to be a Euphoria topic, but there weren't that many Euphoria fanfics in my dataset (in the 60s if I recall correctly). I'm going to try again with LDA, again with 20 topics, and see what that gives me."
   ]
  },
  {
   "cell_type": "code",
   "execution_count": 26,
   "id": "6258a65b-6bba-4b89-af94-8dba7c912ff6",
   "metadata": {},
   "outputs": [
    {
     "name": "stdout",
     "output_type": "stream",
     "text": [
      "Topic 0:\n",
      "izuku katsuki hero midoriya like class just boy said students\n",
      "Topic 1:\n",
      "harry jack potter like magic said just man little eyes\n",
      "Topic 2:\n",
      "naruto lexi luke kakashi sasuke sun moon like just time\n",
      "Topic 3:\n",
      "said looked just asked didn eyes like don know head\n",
      "Topic 4:\n",
      "peter tony ethan rose man mr kid like just okay\n",
      "Topic 5:\n",
      "mirabel cale kim bakugou family young like ron eyes room\n",
      "Topic 6:\n",
      "que la stiles su el en se obi wan derek\n",
      "Topic 7:\n",
      "cock mouth just fuck body inside lips felt hips like\n",
      "Topic 8:\n",
      "man said eyes did time like looked face just head\n",
      "Topic 9:\n",
      "says doesn like just know looks jungkook don time eyes\n",
      "Topic 10:\n",
      "just didn like time know wasn did way knew don\n",
      "Topic 11:\n",
      "chapter 10 11 12 13 14 day 15 16 17\n",
      "Topic 12:\n",
      "just like don know right fucking really oh yeah fuck\n",
      "Topic 13:\n",
      "steve bucky alex tony party got team room talk time\n",
      "Topic 14:\n",
      "eyes hand like head hands face away body fingers lips\n",
      "Topic 15:\n",
      "alpha omega wei lan kara lena shen wuxian ying zhan\n",
      "Topic 16:\n",
      "sirius remus james lily said year just potter black like\n",
      "Topic 17:\n",
      "father mother boy family son like brother didn child little\n",
      "Topic 18:\n",
      "tommy dream eddie sam buck wilbur zuko techno dean john\n",
      "Topic 19:\n",
      "draco hermione tom george ron potter said like eyes harry\n"
     ]
    }
   ],
   "source": [
    "tf_vectorizer = CountVectorizer(max_df=0.95, min_df=2, max_features=num_feats, stop_words='english')\n",
    "tf_docs = tf_vectorizer.fit_transform(documents)\n",
    "\n",
    "lda_model = LatentDirichletAllocation(n_components=num_tops, max_iter=5, learning_method='online', \n",
    "                                learning_offset=50.,random_state=0).fit(tf_docs)\n",
    "\n",
    "display_topics(lda_model, tf_vectorizer.get_feature_names(), 10)"
   ]
  },
  {
   "cell_type": "markdown",
   "id": "cf42e756-9ff6-4113-8469-cfb59b0bc973",
   "metadata": {},
   "source": [
    "This one had similar results but it didn't seem to be as effective at identifying my topics. I'll stick to nmf for the rest of my modeling."
   ]
  },
  {
   "cell_type": "markdown",
   "id": "6b7097be-5d33-480f-876e-ae51bca0864a",
   "metadata": {},
   "source": [
    "So for the record I did try checking on the actual fanfics that the model identified as belonging to each topic, but they weren't very accurate to what the topic seemed to be about, and they were also generally, how should I put this... explicit. So I will not be displaying those here. If you want to read them, check on my uploaded data samples or just go on AO3 yourself. Instead, I'm next going to try to cluster smaller subsections of my data. I'm going to group my data by rating and see what that does to the topic modeling."
   ]
  },
  {
   "cell_type": "code",
   "execution_count": 29,
   "id": "6ae7f576-ac69-4760-a3b1-06d733db5a3e",
   "metadata": {},
   "outputs": [
    {
     "name": "stdout",
     "output_type": "stream",
     "text": [
      "Topic 0:\n",
      "just like said didn time eyes know don did looked\n",
      "Topic 1:\n",
      "mirabel bruno camilo isabela antonio dolores luisa family gift town\n",
      "Topic 2:\n",
      "tommy wilbur phil techno tubbo ranboo dream alfie george fuck\n",
      "Topic 3:\n",
      "chapter 12 10 11 13 14 16 15 17 sort\n",
      "Topic 4:\n",
      "marinette adrien alya chloe chat bruce girl master lady cat\n",
      "Topic 5:\n",
      "peter stark natasha mr kid tony didn potter hero help\n",
      "Topic 6:\n",
      "harry hermione draco potter voldemort ginny dumbledore magic year lord\n",
      "Topic 7:\n",
      "izuku aizawa midoriya katsuki quirk hero bakugou class sensei kid\n",
      "Topic 8:\n",
      "damian tim jason dick bruce baby sword brother demon sign\n",
      "Topic 9:\n",
      "cale alberu soo choi han rok kim dragon prince god\n",
      "Topic 10:\n",
      "says doesn looks asks turns starts smiles nods takes feels\n",
      "Topic 11:\n",
      "tony stark natasha maya man bruce percy team said know\n",
      "Topic 12:\n",
      "que el la su en se por lo una los\n",
      "Topic 13:\n",
      "naruto itachi sasuke uchiha village sensei han 10 leave mother\n",
      "Topic 14:\n",
      "chan sama meeting little ah sword big office 12 free\n",
      "Topic 15:\n",
      "lan jin husband jungkook brother hunter son young said water\n",
      "Topic 16:\n",
      "san sensei ran boy building teacher quickly like black don\n",
      "Topic 17:\n",
      "lucy tim girl katsuki boys family father ship ok tea\n",
      "Topic 18:\n",
      "hinata team ball naruto changed dear game join ll don\n",
      "Topic 19:\n",
      "ace george ball magic help said welcome share really asked\n"
     ]
    }
   ],
   "source": [
    "fanfics_g = fanfics[fanfics['Rating'] == 'General Audiences']\n",
    "fanfics_t = fanfics[fanfics['Rating'] == 'Teen And Up Audiences']\n",
    "fanfics_m = fanfics[fanfics['Rating'] == 'Mature']\n",
    "fanfics_e = fanfics[fanfics['Rating'] == 'Explicit']\n",
    "fanfics_n = fanfics[fanfics['Rating'] == 'Not Rated']\n",
    "\n",
    "documents = fanfics_g.Text\n",
    "tfidf_docs = tfidf_vectorizer.fit_transform(documents)\n",
    "nmf_model = NMF(n_components=num_tops, random_state=1, alpha=.1, l1_ratio=.5, \n",
    "                init='nndsvd').fit(tfidf_docs)\n",
    "\n",
    "display_topics(nmf_model, tfidf_vectorizer.get_feature_names(), 10)"
   ]
  },
  {
   "cell_type": "code",
   "execution_count": 30,
   "id": "f0d12707-df86-4dc5-9cc3-54159056a4ca",
   "metadata": {},
   "outputs": [
    {
     "name": "stdout",
     "output_type": "stream",
     "text": [
      "Topic 0:\n",
      "just like said didn time eyes know did don looked\n",
      "Topic 1:\n",
      "izuku quirk katsuki midoriya hero shouta aizawa hitoshi bakugou todoroki\n",
      "Topic 2:\n",
      "chapter 10 11 12 13 14 18 16 15 17\n",
      "Topic 3:\n",
      "harry draco hermione sirius ron potter remus james tom ginny\n",
      "Topic 4:\n",
      "peter tony matt mr man says okay kid ben sirius\n",
      "Topic 5:\n",
      "says doesn like just asks looks feels takes don knows\n",
      "Topic 6:\n",
      "tommy wilbur techno tubbo phil dream fucking big kid george\n",
      "Topic 7:\n",
      "mirabel bruno family gift sister town tears mother hear didn\n",
      "Topic 8:\n",
      "jason tim bruce dick damian marinette wasn brother kill didn\n",
      "Topic 9:\n",
      "zuko uncle water tea earth dragon prince war ship father\n",
      "Topic 10:\n",
      "obi wan anakin master force ship ben order general war\n",
      "Topic 11:\n",
      "sam jack jamie dream dad mr tubbo going guy mom\n",
      "Topic 12:\n",
      "tony steve bruce loki man kid coffee team mr sherlock\n",
      "Topic 13:\n",
      "percy jason mom dad year magic said son child war\n",
      "Topic 14:\n",
      "luz amity king said sister lily magic act just new\n",
      "Topic 15:\n",
      "kakashi naruto sakura sasuke team san training mission doesn water\n",
      "Topic 16:\n",
      "buck eddie tk parents baby okay matt hospital yeah mom\n",
      "Topic 17:\n",
      "que su la el en se san ya jack bruno\n",
      "Topic 18:\n",
      "luke anakin said father son force ship woman know day\n",
      "Topic 19:\n",
      "kim cale ron young master sunny teen ya father alpha\n"
     ]
    }
   ],
   "source": [
    "documents = fanfics_t.Text\n",
    "tfidf_docs = tfidf_vectorizer.fit_transform(documents)\n",
    "nmf_model = NMF(n_components=num_tops, random_state=1, alpha=.1, l1_ratio=.5, \n",
    "                init='nndsvd').fit(tfidf_docs)\n",
    "\n",
    "display_topics(nmf_model, tfidf_vectorizer.get_feature_names(), 10)"
   ]
  },
  {
   "cell_type": "code",
   "execution_count": 31,
   "id": "cb5464dd-2b1b-4d3d-a8a0-404e4c69da0b",
   "metadata": {},
   "outputs": [
    {
     "name": "stdout",
     "output_type": "stream",
     "text": [
      "Topic 0:\n",
      "just like didn time know did don eyes wasn way\n",
      "Topic 1:\n",
      "chapter 10 11 12 13 sort 16 15 14 17\n",
      "Topic 2:\n",
      "harry potter voldemort tom dumbledore magic draco death lord boy\n",
      "Topic 3:\n",
      "izuku katsuki hero deku class kid students green boy asked\n",
      "Topic 4:\n",
      "says doesn asks just looks like feels don know knows\n",
      "Topic 5:\n",
      "sirius remus james lily regulus dumbledore year potter peter black\n",
      "Topic 6:\n",
      "hermione draco year dumbledore magic harry potter voldemort said students\n",
      "Topic 7:\n",
      "eyes hand lips cock body hands face fingers head mouth\n",
      "Topic 8:\n",
      "jungkook jimin namjoon taehyung yoongi jin kim school younger baby\n",
      "Topic 9:\n",
      "tommy dream george fucking fuck family brother boy alright arthur\n",
      "Topic 10:\n",
      "jon sansa lord lady king father mother brother men dragon\n",
      "Topic 11:\n",
      "kakashi naruto sakura sasuke 10 blonde team mission san training\n",
      "Topic 12:\n",
      "alex kara lena sam kate george lucy cat couch woman\n",
      "Topic 13:\n",
      "wei lan wuxian wangji jin mo yuan yang brother husband\n",
      "Topic 14:\n",
      "said asked looked replied nodded walked ll smiled don know\n",
      "Topic 15:\n",
      "lexi party car house shit school sister ethan dad like\n",
      "Topic 16:\n",
      "emily sue phone lucy car apartment coffee girls day wake\n",
      "Topic 17:\n",
      "omega alpha scent heat pack mate mark father smell son\n",
      "Topic 18:\n",
      "peter tony steve bucky pack kid james boy eyes school\n",
      "Topic 19:\n",
      "que la se el en su le lo di son\n"
     ]
    }
   ],
   "source": [
    "documents = fanfics_m.Text\n",
    "tfidf_docs = tfidf_vectorizer.fit_transform(documents)\n",
    "nmf_model = NMF(n_components=num_tops, random_state=1, alpha=.1, l1_ratio=.5, \n",
    "                init='nndsvd').fit(tfidf_docs)\n",
    "\n",
    "display_topics(nmf_model, tfidf_vectorizer.get_feature_names(), 10)"
   ]
  },
  {
   "cell_type": "code",
   "execution_count": 32,
   "id": "89f032ce-8d49-4660-9260-506092730509",
   "metadata": {},
   "outputs": [
    {
     "name": "stdout",
     "output_type": "stream",
     "text": [
      "Topic 0:\n",
      "just like said didn time eyes know did looked don\n",
      "Topic 1:\n",
      "harry tom potter ron louis magic lily lord said cock\n",
      "Topic 2:\n",
      "chapter 12 10 13 11 14 16 sort 15 words\n",
      "Topic 3:\n",
      "cock pussy cum mouth hips fingers ass body lips inside\n",
      "Topic 4:\n",
      "says like just doesn looks feels asks don eyes takes\n",
      "Topic 5:\n",
      "izuku katsuki ochako bakugou girls said class mother son girl\n",
      "Topic 6:\n",
      "jungkook jimin taehyung namjoon yoongi jeongguk baby boyfriend car boy\n",
      "Topic 7:\n",
      "hermione malfoy ron year george said magic lily percy mother\n",
      "Topic 8:\n",
      "stiles derek dad mate alpha chris car sam house obi\n",
      "Topic 9:\n",
      "alpha omega scent mate heat bakugou naruto smell geralt katsuki\n",
      "Topic 10:\n",
      "peter tony man ass daddy black cum hole said boy\n",
      "Topic 11:\n",
      "levi eren erwin eyes don shit tea captain car que\n",
      "Topic 12:\n",
      "ethan chris rose man alcina daughter lord tom blood maybe\n",
      "Topic 13:\n",
      "childe zhongli xiao zhan demon man like master dragon hole\n",
      "Topic 14:\n",
      "draco malfoy potter ron harry father magic son hermione family\n",
      "Topic 15:\n",
      "kara lena woman blonde sam sister el city girl mother\n",
      "Topic 16:\n",
      "steve bucky tony sam loki daddy dean party la jack\n",
      "Topic 17:\n",
      "que la su en el se wei son lan lexi\n",
      "Topic 18:\n",
      "dream george sam god fucking fuck cum dick daddy day\n",
      "Topic 19:\n",
      "remus sirius james lily potter said year black tom parents\n"
     ]
    }
   ],
   "source": [
    "documents = fanfics_e.Text\n",
    "tfidf_docs = tfidf_vectorizer.fit_transform(documents)\n",
    "nmf_model = NMF(n_components=num_tops, random_state=1, alpha=.1, l1_ratio=.5, \n",
    "                init='nndsvd').fit(tfidf_docs)\n",
    "\n",
    "display_topics(nmf_model, tfidf_vectorizer.get_feature_names(), 10)"
   ]
  },
  {
   "cell_type": "code",
   "execution_count": 33,
   "id": "2728294a-49f8-4b81-b0df-a705ca74a91e",
   "metadata": {},
   "outputs": [
    {
     "name": "stdout",
     "output_type": "stream",
     "text": [
      "Topic 0:\n",
      "like just eyes said time didn know don head did\n",
      "Topic 1:\n",
      "harry snape severus sirius hermione ron potter boy tom fleur\n",
      "Topic 2:\n",
      "chapter 10 18 11 notes end 12 13 15 20\n",
      "Topic 3:\n",
      "cale alberu choi han yoo ron master young white dragon\n",
      "Topic 4:\n",
      "tommy techno ranboo wilbur phil dream tubbo quackity polly kid\n",
      "Topic 5:\n",
      "izuku katsuki hero kid man boy keigo teen training doctor\n",
      "Topic 6:\n",
      "says asks buck doesn looks nods takes eddie starts just\n",
      "Topic 7:\n",
      "jungkook taehyung jimin jin omega sir like ah alpha bathroom\n",
      "Topic 8:\n",
      "peter tony steve stark kid sam suit mr baby remus\n",
      "Topic 9:\n",
      "lexi fez rue nate jules party shit fucking like fuck\n",
      "Topic 10:\n",
      "luz eda hunter king guard house human said paper magic\n",
      "Topic 11:\n",
      "ace hands said brothers months happy soft children captain boys\n",
      "Topic 12:\n",
      "mirabel camilo family la felix room town perfect door house\n",
      "Topic 13:\n",
      "waverly nicole omega alpha woman said ok sister mate asked\n",
      "Topic 14:\n",
      "wei lan wuxian ying cheng wangji jin ghost uncle brother\n",
      "Topic 15:\n",
      "tim damian jason dick tells says roy mr ok phone\n",
      "Topic 16:\n",
      "naruto sasuke tobirama 10 war just ground blonde real looked\n",
      "Topic 17:\n",
      "takemichi said just huh black friend wanna chin story kid\n",
      "Topic 18:\n",
      "draco tom potter severus que father hermione said snape la\n",
      "Topic 19:\n",
      "taeyong johnny alpha omega mate hurt scent loves members friends\n"
     ]
    }
   ],
   "source": [
    "documents = fanfics_n.Text\n",
    "tfidf_docs = tfidf_vectorizer.fit_transform(documents)\n",
    "nmf_model = NMF(n_components=num_tops, random_state=1, alpha=.1, l1_ratio=.5, \n",
    "                init='nndsvd').fit(tfidf_docs)\n",
    "\n",
    "display_topics(nmf_model, tfidf_vectorizer.get_feature_names(), 10)"
   ]
  },
  {
   "cell_type": "markdown",
   "id": "f9dca965-2f49-430a-8cc4-0c559a9e29ac",
   "metadata": {},
   "source": [
    "I'll be taking a pause here, but I will analyze all of this information further in my presentation. "
   ]
  }
 ],
 "metadata": {
  "kernelspec": {
   "display_name": "Python 3",
   "language": "python",
   "name": "python3"
  },
  "language_info": {
   "codemirror_mode": {
    "name": "ipython",
    "version": 3
   },
   "file_extension": ".py",
   "mimetype": "text/x-python",
   "name": "python",
   "nbconvert_exporter": "python",
   "pygments_lexer": "ipython3",
   "version": "3.8.8"
  }
 },
 "nbformat": 4,
 "nbformat_minor": 5
}
